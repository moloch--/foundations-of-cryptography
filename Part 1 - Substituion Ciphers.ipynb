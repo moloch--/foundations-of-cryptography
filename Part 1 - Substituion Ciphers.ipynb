{
  "nbformat": 4,
  "nbformat_minor": 5,
  "metadata": {
    "kernelspec": {
      "display_name": "Python 3",
      "language": "python",
      "name": "python3"
    },
    "language_info": {
      "codemirror_mode": {
        "name": "ipython",
        "version": 3
      },
      "file_extension": ".py",
      "mimetype": "text/x-python",
      "name": "python",
      "nbconvert_exporter": "python",
      "pygments_lexer": "ipython3",
      "version": "3.9.1"
    },
    "colab": {
      "name": "Part 1 - Substituion Ciphers.ipynb",
      "provenance": [],
      "collapsed_sections": []
    }
  },
  "cells": [
    {
      "cell_type": "markdown",
      "metadata": {
        "id": "naval-newspaper"
      },
      "source": [
        "# Foundations of Cryptography - Part 1\n",
        "\n",
        "\n",
        "## Basic Substitution Ciphers \n",
        "\n",
        "__Terminology__\n",
        "* Plaintext - The original message in plain English\n",
        "* Ciphertext - The output of the cipher (i.e., the encrypted message)\n",
        "\n",
        "Throughout the code examples we'll be using the first few paragraphs of 'Alice in Wonderland' as the plaintext:"
      ],
      "id": "naval-newspaper"
    },
    {
      "cell_type": "code",
      "metadata": {
        "tags": [],
        "id": "phantom-session"
      },
      "source": [
        "plaintext = \"\"\"\n",
        "Alice was beginning to get very tired of sitting by her sister\n",
        "on the bank, and of having nothing to do:  once or twice she had\n",
        "peeped into the book her sister was reading, but it had no\n",
        "pictures or conversations in it, `and what is the use of a book,'\n",
        "thought Alice `without pictures or conversation?'\n",
        "\n",
        "  So she was considering in her own mind (as well as she could,\n",
        "for the hot day made her feel very sleepy and stupid), whether\n",
        "the pleasure of making a daisy-chain would be worth the trouble\n",
        "of getting up and picking the daisies, when suddenly a White\n",
        "Rabbit with pink eyes ran close by her.\n",
        "\n",
        "  There was nothing so VERY remarkable in that; nor did Alice\n",
        "think it so VERY much out of the way to hear the Rabbit say to\n",
        "itself, `Oh dear!  Oh dear!  I shall be late!'  (when she thought\n",
        "it over afterwards, it occurred to her that she ought to have\n",
        "wondered at this, but at the time it all seemed quite natural);\n",
        "but when the Rabbit actually TOOK A WATCH OUT OF ITS WAISTCOAT-\n",
        "POCKET, and looked at it, and then hurried on, Alice started to\n",
        "her feet, for it flashed across her mind that she had never\n",
        "before seen a rabbit with either a waistcoat-pocket, or a watch to\n",
        "take out of it, and burning with curiosity, she ran across the\n",
        "field after it, and fortunately was just in time to see it pop\n",
        "down a large rabbit-hole under the hedge.\n",
        "\n",
        "  In another moment down went Alice after it, never once\n",
        "considering how in the world she was to get out again.\n",
        "\n",
        "  The rabbit-hole went straight on like a tunnel for some way,\n",
        "and then dipped suddenly down, so suddenly that Alice had not a\n",
        "moment to think about stopping herself before she found herself\n",
        "falling down a very deep well.\n",
        "\n",
        "  Either the well was very deep, or she fell very slowly, for she\n",
        "had plenty of time as she went down to look about her and to\n",
        "wonder what was going to happen next.  First, she tried to look\n",
        "down and make out what she was coming to, but it was too dark to\n",
        "see anything; then she looked at the sides of the well, and\n",
        "noticed that they were filled with cupboards and book-shelves;\n",
        "here and there she saw maps and pictures hung upon pegs.  She\n",
        "took down a jar from one of the shelves as she passed; it was\n",
        "labelled `ORANGE MARMALADE', but to her great disappointment it\n",
        "was empty:  she did not like to drop the jar for fear of killing\n",
        "somebody, so managed to put it into one of the cupboards as she\n",
        "fell past it.\n",
        "\"\"\""
      ],
      "id": "phantom-session",
      "execution_count": 2,
      "outputs": []
    },
    {
      "cell_type": "markdown",
      "metadata": {
        "id": "crucial-economics"
      },
      "source": [
        "### Monoalphabetic Subtitution Ciphers (The Caesar Cipher)\n",
        "\n",
        "One of the oldest and simpliest ciphers is the [Caesar Cipher](https://en.wikipedia.org/wiki/Caesar_cipher), which works by 'rotating' the alphabet by some key. A common version of this cipher is ROT13 or 'Rotation 13' where the alphabet is shifted half way.\n",
        "\n",
        "<img src=\"https://upload.wikimedia.org/wikipedia/commons/4/4a/Caesar_cipher_left_shift_of_3.svg\" width=\"300\">\n",
        "\n",
        "For the time being we'll use lowercase for everything, in Python we can express the rotation by adding the position of a plainetext letter in the alphabet to key/rotation value, modulo the length of the alphabet:"
      ],
      "id": "crucial-economics"
    },
    {
      "cell_type": "code",
      "metadata": {
        "id": "cultural-swiss"
      },
      "source": [
        "from string import ascii_lowercase # Lower case English alphabet\n",
        "\n",
        "def caesar_encrypt(msg: str, key: int) -> str:\n",
        "    ciphertext = ''\n",
        "    for char in msg:\n",
        "        if char in ascii_lowercase:\n",
        "            cipher_index = ascii_lowercase.index(char) + key\n",
        "            ciphertext += ascii_lowercase[cipher_index % len(ascii_lowercase)]\n",
        "        else:\n",
        "            ciphertext += char\n",
        "    return ciphertext"
      ],
      "id": "cultural-swiss",
      "execution_count": 1,
      "outputs": []
    },
    {
      "cell_type": "code",
      "metadata": {
        "colab": {
          "base_uri": "https://localhost:8080/"
        },
        "id": "latter-saver",
        "outputId": "604e0db8-b86b-41d9-c897-2b80ab2f1a11"
      },
      "source": [
        "ciphertext = caesar_encrypt(plaintext.lower(), 13) # ROT13\n",
        "print(ciphertext)"
      ],
      "id": "latter-saver",
      "execution_count": 3,
      "outputs": [
        {
          "output_type": "stream",
          "text": [
            "\n",
            "nyvpr jnf ortvaavat gb trg irel gverq bs fvggvat ol ure fvfgre\n",
            "ba gur onax, naq bs univat abguvat gb qb:  bapr be gjvpr fur unq\n",
            "crrcrq vagb gur obbx ure fvfgre jnf ernqvat, ohg vg unq ab\n",
            "cvpgherf be pbairefngvbaf va vg, `naq jung vf gur hfr bs n obbx,'\n",
            "gubhtug nyvpr `jvgubhg cvpgherf be pbairefngvba?'\n",
            "\n",
            "  fb fur jnf pbafvqrevat va ure bja zvaq (nf jryy nf fur pbhyq,\n",
            "sbe gur ubg qnl znqr ure srry irel fyrrcl naq fghcvq), jurgure\n",
            "gur cyrnfher bs znxvat n qnvfl-punva jbhyq or jbegu gur gebhoyr\n",
            "bs trggvat hc naq cvpxvat gur qnvfvrf, jura fhqqrayl n juvgr\n",
            "enoovg jvgu cvax rlrf ena pybfr ol ure.\n",
            "\n",
            "  gurer jnf abguvat fb irel erznexnoyr va gung; abe qvq nyvpr\n",
            "guvax vg fb irel zhpu bhg bs gur jnl gb urne gur enoovg fnl gb\n",
            "vgfrys, `bu qrne!  bu qrne!  v funyy or yngr!'  (jura fur gubhtug\n",
            "vg bire nsgrejneqf, vg bppheerq gb ure gung fur bhtug gb unir\n",
            "jbaqrerq ng guvf, ohg ng gur gvzr vg nyy frrzrq dhvgr angheny);\n",
            "ohg jura gur enoovg npghnyyl gbbx n jngpu bhg bs vgf jnvfgpbng-\n",
            "cbpxrg, naq ybbxrq ng vg, naq gura uheevrq ba, nyvpr fgnegrq gb\n",
            "ure srrg, sbe vg synfurq npebff ure zvaq gung fur unq arire\n",
            "orsber frra n enoovg jvgu rvgure n jnvfgpbng-cbpxrg, be n jngpu gb\n",
            "gnxr bhg bs vg, naq oheavat jvgu phevbfvgl, fur ena npebff gur\n",
            "svryq nsgre vg, naq sbeghangryl jnf whfg va gvzr gb frr vg cbc\n",
            "qbja n ynetr enoovg-ubyr haqre gur urqtr.\n",
            "\n",
            "  va nabgure zbzrag qbja jrag nyvpr nsgre vg, arire bapr\n",
            "pbafvqrevat ubj va gur jbeyq fur jnf gb trg bhg ntnva.\n",
            "\n",
            "  gur enoovg-ubyr jrag fgenvtug ba yvxr n ghaary sbe fbzr jnl,\n",
            "naq gura qvccrq fhqqrayl qbja, fb fhqqrayl gung nyvpr unq abg n\n",
            "zbzrag gb guvax nobhg fgbccvat urefrys orsber fur sbhaq urefrys\n",
            "snyyvat qbja n irel qrrc jryy.\n",
            "\n",
            "  rvgure gur jryy jnf irel qrrc, be fur sryy irel fybjyl, sbe fur\n",
            "unq cyragl bs gvzr nf fur jrag qbja gb ybbx nobhg ure naq gb\n",
            "jbaqre jung jnf tbvat gb unccra arkg.  svefg, fur gevrq gb ybbx\n",
            "qbja naq znxr bhg jung fur jnf pbzvat gb, ohg vg jnf gbb qnex gb\n",
            "frr nalguvat; gura fur ybbxrq ng gur fvqrf bs gur jryy, naq\n",
            "abgvprq gung gurl jrer svyyrq jvgu phcobneqf naq obbx-furyirf;\n",
            "urer naq gurer fur fnj zncf naq cvpgherf uhat hcba crtf.  fur\n",
            "gbbx qbja n wne sebz bar bs gur furyirf nf fur cnffrq; vg jnf\n",
            "ynoryyrq `benatr zneznynqr', ohg gb ure terng qvfnccbvagzrag vg\n",
            "jnf rzcgl:  fur qvq abg yvxr gb qebc gur wne sbe srne bs xvyyvat\n",
            "fbzrobql, fb znantrq gb chg vg vagb bar bs gur phcobneqf nf fur\n",
            "sryy cnfg vg.\n",
            "\n"
          ],
          "name": "stdout"
        }
      ]
    },
    {
      "cell_type": "code",
      "metadata": {
        "id": "yn_TG48E9s2M"
      },
      "source": [
        ""
      ],
      "id": "yn_TG48E9s2M",
      "execution_count": null,
      "outputs": []
    },
    {
      "cell_type": "markdown",
      "metadata": {
        "id": "incorporate-framework"
      },
      "source": [
        "#### Example Matplot Bar Chart"
      ],
      "id": "incorporate-framework"
    },
    {
      "cell_type": "code",
      "metadata": {
        "colab": {
          "base_uri": "https://localhost:8080/",
          "height": 265
        },
        "id": "commercial-contribution",
        "outputId": "b6a53b89-cd5e-41fe-8261-3658b5b8775a"
      },
      "source": [
        "from matplotlib import pyplot\n",
        "%matplotlib inline  # Allows us to inline graphs\n",
        "\n",
        "# Example bar char using matplotlib\n",
        "pyplot.bar(['list', 'of' ,'bar', 'labels'], [1, 2, 3, 4])\n",
        "pyplot.show()"
      ],
      "id": "commercial-contribution",
      "execution_count": 4,
      "outputs": [
        {
          "output_type": "display_data",
          "data": {
            "image/png": "[encoded data removed]",
            "text/plain": [
              "<Figure size 432x288 with 1 Axes>"
            ]
          },
          "metadata": {
            "tags": [],
            "needs_background": "light"
          }
        }
      ]
    },
    {
      "cell_type": "markdown",
      "metadata": {
        "id": "demographic-automation"
      },
      "source": [
        "#### Counting Character Frequencies \n",
        "\n",
        "Let's take a look at how frequently certain letters appear in the ciphertext as compared to plaintext English."
      ],
      "id": "demographic-automation"
    },
    {
      "cell_type": "code",
      "metadata": {
        "id": "accepting-humanitarian"
      },
      "source": [
        "from collections import defaultdict\n",
        "\n",
        "# The 'long way' to use defaultdict:\n",
        "#\n",
        "# def zero() -> int:\n",
        "#     return 0\n",
        "#\n",
        "# char_freqs = defaultdict(zero)\n",
        "\n",
        "# Create a dict with a default value of 0\n",
        "# It's much shorter to use a lambda than def\n",
        "char_freqs = defaultdict(lambda: 0)\n",
        "\n",
        "for char in ciphertext:\n",
        "    if char in ascii_lowercase:\n",
        "        char_freqs[char] += 1  # No need to create key with defaultdict\n",
        " "
      ],
      "id": "accepting-humanitarian",
      "execution_count": null,
      "outputs": []
    },
    {
      "cell_type": "code",
      "metadata": {
        "id": "weekly-bruce",
        "outputId": "1628abfb-d338-426a-b43d-8b42b13ee301"
      },
      "source": [
        "# Plot the frequency of letters in the ciphertext\n",
        "cipher_plot1 = pyplot.bar(char_freqs.keys(), char_freqs.values()) \n",
        "\n",
        "# Frequency of letters in English:\n",
        "#  1. E – 11.1607%\n",
        "#  2. A – 8.4966%\n",
        "#  3. R – 7.5809%\n",
        "#  4. I – 7.5448%\n",
        "#  5. O – 7.1635%\n",
        "#  6. T – 6.9509%\n",
        "#  7. N – 6.6544%\n",
        "#  8. S – 5.7351%"
      ],
      "id": "weekly-bruce",
      "execution_count": null,
      "outputs": [
        {
          "output_type": "display_data",
          "data": {
            "image/png": "[encoded data removed]",
            "text/plain": [
              "<Figure size 432x288 with 1 Axes>"
            ]
          },
          "metadata": {
            "tags": [],
            "needs_background": "light"
          }
        }
      ]
    },
    {
      "cell_type": "code",
      "metadata": {
        "id": "competitive-continuity",
        "outputId": "ebed6931-92c9-4b26-b69b-8c6b84bcbdda"
      },
      "source": [
        "# Sort bar chart items by value\n",
        "\n",
        "items = sorted(char_freqs.items(), key=lambda item: item[1], reverse=True)\n",
        "cipher_plot2 = pyplot.bar([item[0] for item in items], [item[1] for item in items]) \n",
        "\n",
        "# 1. E – 11.1607%\n",
        "# 2. A – 8.4966%\n",
        "# 3. R – 7.5809%\n",
        "# 4. I – 7.5448%\n",
        "# 5. O – 7.1635%\n",
        "# 6. T – 6.9509%\n",
        "# 7. N – 6.6544%\n",
        "# 8. S – 5.7351%"
      ],
      "id": "competitive-continuity",
      "execution_count": null,
      "outputs": [
        {
          "output_type": "display_data",
          "data": {
            "image/png": "[encoded data removed]",
            "text/plain": [
              "<Figure size 432x288 with 1 Axes>"
            ]
          },
          "metadata": {
            "tags": [],
            "needs_background": "light"
          }
        }
      ]
    },
    {
      "cell_type": "code",
      "metadata": {
        "id": "august-gravity",
        "outputId": "60a0748c-8d73-4021-dff3-a149661e9a0b"
      },
      "source": [
        "# So does 'e' = 'r' ?\n",
        "print(caesar_encrypt('e', 13))"
      ],
      "id": "august-gravity",
      "execution_count": null,
      "outputs": [
        {
          "output_type": "stream",
          "text": [
            "r\n"
          ],
          "name": "stdout"
        }
      ]
    },
    {
      "cell_type": "markdown",
      "metadata": {
        "id": "adjacent-opera"
      },
      "source": [
        "#### Digraph Frequencies\n",
        "\n",
        "We can also look for common two letter combinations (digraphs)."
      ],
      "id": "adjacent-opera"
    },
    {
      "cell_type": "code",
      "metadata": {
        "id": "addressed-circuit"
      },
      "source": [
        "digraph_freqs = defaultdict(lambda: 0)\n",
        "\n",
        "for word in ciphertext.split():\n",
        "    \n",
        "    # Remove symbols and words too short to contain a digraph\n",
        "    word = ''.join(char for char in word if char in ascii_lowercase)\n",
        "    if len(word) < 2:\n",
        "        continue\n",
        "\n",
        "    # We want 'foobar' -> fo, oo, ob, ba, ar\n",
        "    for index, char in enumerate(word[:-1]):\n",
        "        digraph_freqs[char+word[index+1]] += 1"
      ],
      "id": "addressed-circuit",
      "execution_count": null,
      "outputs": []
    },
    {
      "cell_type": "code",
      "metadata": {
        "id": "electric-spine",
        "outputId": "5d47a14b-a900-47cd-db38-c9ec978f1dc0"
      },
      "source": [
        "# Too many values to plot\n",
        "cipher_plot2 = pyplot.bar(digraph_freqs.keys(), digraph_freqs.values())"
      ],
      "id": "electric-spine",
      "execution_count": null,
      "outputs": [
        {
          "output_type": "display_data",
          "data": {
            "image/png": "[encoded data removed]",
            "text/plain": [
              "<Figure size 432x288 with 1 Axes>"
            ]
          },
          "metadata": {
            "tags": [],
            "needs_background": "light"
          }
        }
      ]
    },
    {
      "cell_type": "code",
      "metadata": {
        "id": "representative-street",
        "outputId": "fbc9f0f2-0753-49dc-af37-3fb3388c39c8"
      },
      "source": [
        "# Common English Digraphs = th er on an re he in ed nd ha at en es of or nt ea ti to it st io le is ou ar as de rt ve\n",
        "\n",
        "items = sorted(digraph_freqs.items(), key=lambda item: item[1], reverse=True)\n",
        "\n",
        "# Only plot the top 15 items\n",
        "cipher_plot3 = pyplot.bar([item[0] for item in items[:15]], [item[1] for item in items[:15]])"
      ],
      "id": "representative-street",
      "execution_count": null,
      "outputs": [
        {
          "output_type": "display_data",
          "data": {
            "image/png": "[encoded data removed]",
            "text/plain": [
              "<Figure size 432x288 with 1 Axes>"
            ]
          },
          "metadata": {
            "tags": [],
            "needs_background": "light"
          }
        }
      ]
    },
    {
      "cell_type": "code",
      "metadata": {
        "id": "underlying-tribune",
        "outputId": "ec90268a-13a1-4aa9-d112-7d2de315552a"
      },
      "source": [
        "print(caesar_encrypt('th', 13))\n",
        "print(caesar_encrypt('er', 13))\n",
        "print(caesar_encrypt('he', 13))"
      ],
      "id": "underlying-tribune",
      "execution_count": null,
      "outputs": [
        {
          "output_type": "stream",
          "text": [
            "gu\n",
            "re\n",
            "ur\n"
          ],
          "name": "stdout"
        }
      ]
    },
    {
      "cell_type": "markdown",
      "metadata": {
        "id": "tight-parker"
      },
      "source": [
        "#### Character Frequencies with Different Keys\n",
        "\n",
        "It's important to note that frequency analysis works _regardless of the key or alphabet used_ in the substitution cipher."
      ],
      "id": "tight-parker"
    },
    {
      "cell_type": "code",
      "metadata": {
        "id": "bizarre-psychiatry"
      },
      "source": [
        "def char_frequency(ciphertext: str) -> dict:\n",
        "    ''' Reusable function to plot character frequencies '''\n",
        "    char_freqs = defaultdict(lambda: 0)\n",
        "    for char in ciphertext:\n",
        "        if char in ascii_lowercase:\n",
        "            char_freqs[char] += 1\n",
        "    return sorted(char_freqs.items(), key=lambda item: item[1], reverse=True)"
      ],
      "id": "bizarre-psychiatry",
      "execution_count": null,
      "outputs": []
    },
    {
      "cell_type": "code",
      "metadata": {
        "id": "falling-reporter",
        "outputId": "00f8c219-3444-40dd-f512-66bd7f8138d3"
      },
      "source": [
        "# Encrypt plaintext using different keys\n",
        "ciphertexts = [caesar_encrypt(plaintext, key) for key in range(1, 4)]\n",
        "\n",
        "for index, ciphertext in enumerate(ciphertexts):\n",
        "    items = char_frequency(ciphertext)\n",
        "    pyplot.bar([item[0] for item in items], [item[1] for item in items])\n",
        "    pyplot.show()\n",
        "    pyplot.close()"
      ],
      "id": "falling-reporter",
      "execution_count": null,
      "outputs": [
        {
          "output_type": "display_data",
          "data": {
            "image/png": "[encoded data removed]",
            "text/plain": [
              "<Figure size 432x288 with 1 Axes>"
            ]
          },
          "metadata": {
            "tags": [],
            "needs_background": "light"
          }
        },
        {
          "output_type": "display_data",
          "data": {
            "image/png": "[encoded data removed]",
            "text/plain": [
              "<Figure size 432x288 with 1 Axes>"
            ]
          },
          "metadata": {
            "tags": [],
            "needs_background": "light"
          }
        },
        {
          "output_type": "display_data",
          "data": {
            "image/png": "[encoded data removed]",
            "text/plain": [
              "<Figure size 432x288 with 1 Axes>"
            ]
          },
          "metadata": {
            "tags": [],
            "needs_background": "light"
          }
        }
      ]
    },
    {
      "cell_type": "code",
      "metadata": {
        "id": "vocal-progress",
        "outputId": "611651f2-649f-47af-a656-ca1876a177e8"
      },
      "source": [
        "# The symbols are arbitrary\n",
        "\n",
        "def emoji_encrypt(msg: str, alphabet: dict) -> str:\n",
        "    ciphertext = ''\n",
        "    for char in msg:\n",
        "        if char in alphabet:\n",
        "            ciphertext += alphabet[char]\n",
        "        else:\n",
        "            ciphertext += char\n",
        "    return ciphertext\n",
        "\n",
        "# Define cipher alphabet\n",
        "emojis = ['🐶','🐱','🐭','🐹','🐰','🦊','🐻','🐼','🐻‍❄️','🐨','🐯','🦁','🐮','🐷','🐽','🐸','🐵','🙈','🙉','🙊','🐒','🐔','🐧','🐦','🐤','🐣']\n",
        "emoji_alphabet = dict(zip(ascii_lowercase, emojis))\n",
        "\n",
        "emoji_ciphertext = emoji_encrypt(plaintext.lower(), emoji_alphabet)\n",
        "print(emoji_ciphertext)"
      ],
      "id": "vocal-progress",
      "execution_count": null,
      "outputs": [
        {
          "output_type": "stream",
          "text": [
            "\n",
            "🐶🦁🐻‍❄️🐭🐰 🐧🐶🙉 🐱🐰🐻🐻‍❄️🐷🐷🐻‍❄️🐷🐻 🙊🐽 🐻🐰🙊 🐔🐰🙈🐤 🙊🐻‍❄️🙈🐰🐹 🐽🦊 🙉🐻‍❄️🙊🙊🐻‍❄️🐷🐻 🐱🐤 🐼🐰🙈 🙉🐻‍❄️🙉🙊🐰🙈\n",
            "🐽🐷 🙊🐼🐰 🐱🐶🐷🐯, 🐶🐷🐹 🐽🦊 🐼🐶🐔🐻‍❄️🐷🐻 🐷🐽🙊🐼🐻‍❄️🐷🐻 🙊🐽 🐹🐽:  🐽🐷🐭🐰 🐽🙈 🙊🐧🐻‍❄️🐭🐰 🙉🐼🐰 🐼🐶🐹\n",
            "🐸🐰🐰🐸🐰🐹 🐻‍❄️🐷🙊🐽 🙊🐼🐰 🐱🐽🐽🐯 🐼🐰🙈 🙉🐻‍❄️🙉🙊🐰🙈 🐧🐶🙉 🙈🐰🐶🐹🐻‍❄️🐷🐻, 🐱🐒🙊 🐻‍❄️🙊 🐼🐶🐹 🐷🐽\n",
            "🐸🐻‍❄️🐭🙊🐒🙈🐰🙉 🐽🙈 🐭🐽🐷🐔🐰🙈🙉🐶🙊🐻‍❄️🐽🐷🙉 🐻‍❄️🐷 🐻‍❄️🙊, `🐶🐷🐹 🐧🐼🐶🙊 🐻‍❄️🙉 🙊🐼🐰 🐒🙉🐰 🐽🦊 🐶 🐱🐽🐽🐯,'\n",
            "🙊🐼🐽🐒🐻🐼🙊 🐶🦁🐻‍❄️🐭🐰 `🐧🐻‍❄️🙊🐼🐽🐒🙊 🐸🐻‍❄️🐭🙊🐒🙈🐰🙉 🐽🙈 🐭🐽🐷🐔🐰🙈🙉🐶🙊🐻‍❄️🐽🐷?'\n",
            "\n",
            "  🙉🐽 🙉🐼🐰 🐧🐶🙉 🐭🐽🐷🙉🐻‍❄️🐹🐰🙈🐻‍❄️🐷🐻 🐻‍❄️🐷 🐼🐰🙈 🐽🐧🐷 🐮🐻‍❄️🐷🐹 (🐶🙉 🐧🐰🦁🦁 🐶🙉 🙉🐼🐰 🐭🐽🐒🦁🐹,\n",
            "🦊🐽🙈 🙊🐼🐰 🐼🐽🙊 🐹🐶🐤 🐮🐶🐹🐰 🐼🐰🙈 🦊🐰🐰🦁 🐔🐰🙈🐤 🙉🦁🐰🐰🐸🐤 🐶🐷🐹 🙉🙊🐒🐸🐻‍❄️🐹), 🐧🐼🐰🙊🐼🐰🙈\n",
            "🙊🐼🐰 🐸🦁🐰🐶🙉🐒🙈🐰 🐽🦊 🐮🐶🐯🐻‍❄️🐷🐻 🐶 🐹🐶🐻‍❄️🙉🐤-🐭🐼🐶🐻‍❄️🐷 🐧🐽🐒🦁🐹 🐱🐰 🐧🐽🙈🙊🐼 🙊🐼🐰 🙊🙈🐽🐒🐱🦁🐰\n",
            "🐽🦊 🐻🐰🙊🙊🐻‍❄️🐷🐻 🐒🐸 🐶🐷🐹 🐸🐻‍❄️🐭🐯🐻‍❄️🐷🐻 🙊🐼🐰 🐹🐶🐻‍❄️🙉🐻‍❄️🐰🙉, 🐧🐼🐰🐷 🙉🐒🐹🐹🐰🐷🦁🐤 🐶 🐧🐼🐻‍❄️🙊🐰\n",
            "🙈🐶🐱🐱🐻‍❄️🙊 🐧🐻‍❄️🙊🐼 🐸🐻‍❄️🐷🐯 🐰🐤🐰🙉 🙈🐶🐷 🐭🦁🐽🙉🐰 🐱🐤 🐼🐰🙈.\n",
            "\n",
            "  🙊🐼🐰🙈🐰 🐧🐶🙉 🐷🐽🙊🐼🐻‍❄️🐷🐻 🙉🐽 🐔🐰🙈🐤 🙈🐰🐮🐶🙈🐯🐶🐱🦁🐰 🐻‍❄️🐷 🙊🐼🐶🙊; 🐷🐽🙈 🐹🐻‍❄️🐹 🐶🦁🐻‍❄️🐭🐰\n",
            "🙊🐼🐻‍❄️🐷🐯 🐻‍❄️🙊 🙉🐽 🐔🐰🙈🐤 🐮🐒🐭🐼 🐽🐒🙊 🐽🦊 🙊🐼🐰 🐧🐶🐤 🙊🐽 🐼🐰🐶🙈 🙊🐼🐰 🙈🐶🐱🐱🐻‍❄️🙊 🙉🐶🐤 🙊🐽\n",
            "🐻‍❄️🙊🙉🐰🦁🦊, `🐽🐼 🐹🐰🐶🙈!  🐽🐼 🐹🐰🐶🙈!  🐻‍❄️ 🙉🐼🐶🦁🦁 🐱🐰 🦁🐶🙊🐰!'  (🐧🐼🐰🐷 🙉🐼🐰 🙊🐼🐽🐒🐻🐼🙊\n",
            "🐻‍❄️🙊 🐽🐔🐰🙈 🐶🦊🙊🐰🙈🐧🐶🙈🐹🙉, 🐻‍❄️🙊 🐽🐭🐭🐒🙈🙈🐰🐹 🙊🐽 🐼🐰🙈 🙊🐼🐶🙊 🙉🐼🐰 🐽🐒🐻🐼🙊 🙊🐽 🐼🐶🐔🐰\n",
            "🐧🐽🐷🐹🐰🙈🐰🐹 🐶🙊 🙊🐼🐻‍❄️🙉, 🐱🐒🙊 🐶🙊 🙊🐼🐰 🙊🐻‍❄️🐮🐰 🐻‍❄️🙊 🐶🦁🦁 🙉🐰🐰🐮🐰🐹 🐵🐒🐻‍❄️🙊🐰 🐷🐶🙊🐒🙈🐶🦁);\n",
            "🐱🐒🙊 🐧🐼🐰🐷 🙊🐼🐰 🙈🐶🐱🐱🐻‍❄️🙊 🐶🐭🙊🐒🐶🦁🦁🐤 🙊🐽🐽🐯 🐶 🐧🐶🙊🐭🐼 🐽🐒🙊 🐽🦊 🐻‍❄️🙊🙉 🐧🐶🐻‍❄️🙉🙊🐭🐽🐶🙊-\n",
            "🐸🐽🐭🐯🐰🙊, 🐶🐷🐹 🦁🐽🐽🐯🐰🐹 🐶🙊 🐻‍❄️🙊, 🐶🐷🐹 🙊🐼🐰🐷 🐼🐒🙈🙈🐻‍❄️🐰🐹 🐽🐷, 🐶🦁🐻‍❄️🐭🐰 🙉🙊🐶🙈🙊🐰🐹 🙊🐽\n",
            "🐼🐰🙈 🦊🐰🐰🙊, 🦊🐽🙈 🐻‍❄️🙊 🦊🦁🐶🙉🐼🐰🐹 🐶🐭🙈🐽🙉🙉 🐼🐰🙈 🐮🐻‍❄️🐷🐹 🙊🐼🐶🙊 🙉🐼🐰 🐼🐶🐹 🐷🐰🐔🐰🙈\n",
            "🐱🐰🦊🐽🙈🐰 🙉🐰🐰🐷 🐶 🙈🐶🐱🐱🐻‍❄️🙊 🐧🐻‍❄️🙊🐼 🐰🐻‍❄️🙊🐼🐰🙈 🐶 🐧🐶🐻‍❄️🙉🙊🐭🐽🐶🙊-🐸🐽🐭🐯🐰🙊, 🐽🙈 🐶 🐧🐶🙊🐭🐼 🙊🐽\n",
            "🙊🐶🐯🐰 🐽🐒🙊 🐽🦊 🐻‍❄️🙊, 🐶🐷🐹 🐱🐒🙈🐷🐻‍❄️🐷🐻 🐧🐻‍❄️🙊🐼 🐭🐒🙈🐻‍❄️🐽🙉🐻‍❄️🙊🐤, 🙉🐼🐰 🙈🐶🐷 🐶🐭🙈🐽🙉🙉 🙊🐼🐰\n",
            "🦊🐻‍❄️🐰🦁🐹 🐶🦊🙊🐰🙈 🐻‍❄️🙊, 🐶🐷🐹 🦊🐽🙈🙊🐒🐷🐶🙊🐰🦁🐤 🐧🐶🙉 🐨🐒🙉🙊 🐻‍❄️🐷 🙊🐻‍❄️🐮🐰 🙊🐽 🙉🐰🐰 🐻‍❄️🙊 🐸🐽🐸\n",
            "🐹🐽🐧🐷 🐶 🦁🐶🙈🐻🐰 🙈🐶🐱🐱🐻‍❄️🙊-🐼🐽🦁🐰 🐒🐷🐹🐰🙈 🙊🐼🐰 🐼🐰🐹🐻🐰.\n",
            "\n",
            "  🐻‍❄️🐷 🐶🐷🐽🙊🐼🐰🙈 🐮🐽🐮🐰🐷🙊 🐹🐽🐧🐷 🐧🐰🐷🙊 🐶🦁🐻‍❄️🐭🐰 🐶🦊🙊🐰🙈 🐻‍❄️🙊, 🐷🐰🐔🐰🙈 🐽🐷🐭🐰\n",
            "🐭🐽🐷🙉🐻‍❄️🐹🐰🙈🐻‍❄️🐷🐻 🐼🐽🐧 🐻‍❄️🐷 🙊🐼🐰 🐧🐽🙈🦁🐹 🙉🐼🐰 🐧🐶🙉 🙊🐽 🐻🐰🙊 🐽🐒🙊 🐶🐻🐶🐻‍❄️🐷.\n",
            "\n",
            "  🙊🐼🐰 🙈🐶🐱🐱🐻‍❄️🙊-🐼🐽🦁🐰 🐧🐰🐷🙊 🙉🙊🙈🐶🐻‍❄️🐻🐼🙊 🐽🐷 🦁🐻‍❄️🐯🐰 🐶 🙊🐒🐷🐷🐰🦁 🦊🐽🙈 🙉🐽🐮🐰 🐧🐶🐤,\n",
            "🐶🐷🐹 🙊🐼🐰🐷 🐹🐻‍❄️🐸🐸🐰🐹 🙉🐒🐹🐹🐰🐷🦁🐤 🐹🐽🐧🐷, 🙉🐽 🙉🐒🐹🐹🐰🐷🦁🐤 🙊🐼🐶🙊 🐶🦁🐻‍❄️🐭🐰 🐼🐶🐹 🐷🐽🙊 🐶\n",
            "🐮🐽🐮🐰🐷🙊 🙊🐽 🙊🐼🐻‍❄️🐷🐯 🐶🐱🐽🐒🙊 🙉🙊🐽🐸🐸🐻‍❄️🐷🐻 🐼🐰🙈🙉🐰🦁🦊 🐱🐰🦊🐽🙈🐰 🙉🐼🐰 🦊🐽🐒🐷🐹 🐼🐰🙈🙉🐰🦁🦊\n",
            "🦊🐶🦁🦁🐻‍❄️🐷🐻 🐹🐽🐧🐷 🐶 🐔🐰🙈🐤 🐹🐰🐰🐸 🐧🐰🦁🦁.\n",
            "\n",
            "  🐰🐻‍❄️🙊🐼🐰🙈 🙊🐼🐰 🐧🐰🦁🦁 🐧🐶🙉 🐔🐰🙈🐤 🐹🐰🐰🐸, 🐽🙈 🙉🐼🐰 🦊🐰🦁🦁 🐔🐰🙈🐤 🙉🦁🐽🐧🦁🐤, 🦊🐽🙈 🙉🐼🐰\n",
            "🐼🐶🐹 🐸🦁🐰🐷🙊🐤 🐽🦊 🙊🐻‍❄️🐮🐰 🐶🙉 🙉🐼🐰 🐧🐰🐷🙊 🐹🐽🐧🐷 🙊🐽 🦁🐽🐽🐯 🐶🐱🐽🐒🙊 🐼🐰🙈 🐶🐷🐹 🙊🐽\n",
            "🐧🐽🐷🐹🐰🙈 🐧🐼🐶🙊 🐧🐶🙉 🐻🐽🐻‍❄️🐷🐻 🙊🐽 🐼🐶🐸🐸🐰🐷 🐷🐰🐦🙊.  🦊🐻‍❄️🙈🙉🙊, 🙉🐼🐰 🙊🙈🐻‍❄️🐰🐹 🙊🐽 🦁🐽🐽🐯\n",
            "🐹🐽🐧🐷 🐶🐷🐹 🐮🐶🐯🐰 🐽🐒🙊 🐧🐼🐶🙊 🙉🐼🐰 🐧🐶🙉 🐭🐽🐮🐻‍❄️🐷🐻 🙊🐽, 🐱🐒🙊 🐻‍❄️🙊 🐧🐶🙉 🙊🐽🐽 🐹🐶🙈🐯 🙊🐽\n",
            "🙉🐰🐰 🐶🐷🐤🙊🐼🐻‍❄️🐷🐻; 🙊🐼🐰🐷 🙉🐼🐰 🦁🐽🐽🐯🐰🐹 🐶🙊 🙊🐼🐰 🙉🐻‍❄️🐹🐰🙉 🐽🦊 🙊🐼🐰 🐧🐰🦁🦁, 🐶🐷🐹\n",
            "🐷🐽🙊🐻‍❄️🐭🐰🐹 🙊🐼🐶🙊 🙊🐼🐰🐤 🐧🐰🙈🐰 🦊🐻‍❄️🦁🦁🐰🐹 🐧🐻‍❄️🙊🐼 🐭🐒🐸🐱🐽🐶🙈🐹🙉 🐶🐷🐹 🐱🐽🐽🐯-🙉🐼🐰🦁🐔🐰🙉;\n",
            "🐼🐰🙈🐰 🐶🐷🐹 🙊🐼🐰🙈🐰 🙉🐼🐰 🙉🐶🐧 🐮🐶🐸🙉 🐶🐷🐹 🐸🐻‍❄️🐭🙊🐒🙈🐰🙉 🐼🐒🐷🐻 🐒🐸🐽🐷 🐸🐰🐻🙉.  🙉🐼🐰\n",
            "🙊🐽🐽🐯 🐹🐽🐧🐷 🐶 🐨🐶🙈 🦊🙈🐽🐮 🐽🐷🐰 🐽🦊 🙊🐼🐰 🙉🐼🐰🦁🐔🐰🙉 🐶🙉 🙉🐼🐰 🐸🐶🙉🙉🐰🐹; 🐻‍❄️🙊 🐧🐶🙉\n",
            "🦁🐶🐱🐰🦁🦁🐰🐹 `🐽🙈🐶🐷🐻🐰 🐮🐶🙈🐮🐶🦁🐶🐹🐰', 🐱🐒🙊 🙊🐽 🐼🐰🙈 🐻🙈🐰🐶🙊 🐹🐻‍❄️🙉🐶🐸🐸🐽🐻‍❄️🐷🙊🐮🐰🐷🙊 🐻‍❄️🙊\n",
            "🐧🐶🙉 🐰🐮🐸🙊🐤:  🙉🐼🐰 🐹🐻‍❄️🐹 🐷🐽🙊 🦁🐻‍❄️🐯🐰 🙊🐽 🐹🙈🐽🐸 🙊🐼🐰 🐨🐶🙈 🦊🐽🙈 🦊🐰🐶🙈 🐽🦊 🐯🐻‍❄️🦁🦁🐻‍❄️🐷🐻\n",
            "🙉🐽🐮🐰🐱🐽🐹🐤, 🙉🐽 🐮🐶🐷🐶🐻🐰🐹 🙊🐽 🐸🐒🙊 🐻‍❄️🙊 🐻‍❄️🐷🙊🐽 🐽🐷🐰 🐽🦊 🙊🐼🐰 🐭🐒🐸🐱🐽🐶🙈🐹🙉 🐶🙉 🙉🐼🐰\n",
            "🦊🐰🦁🦁 🐸🐶🙉🙊 🐻‍❄️🙊.\n",
            "\n"
          ],
          "name": "stdout"
        }
      ]
    },
    {
      "cell_type": "code",
      "metadata": {
        "id": "positive-budapest",
        "outputId": "7ea38aab-1484-46ca-ed9d-8c2e0585bfd2"
      },
      "source": [
        "def alphabet_char_frequency(ciphertext: str, alphabet: str) -> dict:\n",
        "    ''' Char frequency with caller specified alphabet '''\n",
        "    char_freqs = defaultdict(lambda: 0)\n",
        "    for char in ciphertext:\n",
        "        if char not in alphabet:\n",
        "            continue\n",
        "        char_freqs[char] += 1\n",
        "    return sorted(char_freqs.items(), key=lambda item: item[1], reverse=True)\n",
        "\n",
        "\n",
        "# Frequency distribution is the same even with an emoji alphabet\n",
        "items = alphabet_char_frequency(emoji_ciphertext, [*emoji_alphabet.values()])\n",
        "pyplot.bar([item[0] for item in items], [item[1] for item in items])\n",
        "pyplot.show()"
      ],
      "id": "positive-budapest",
      "execution_count": null,
      "outputs": [
        {
          "output_type": "display_data",
          "data": {
            "image/png": "[encoded data removed]",
            "text/plain": [
              "<Figure size 432x288 with 1 Axes>"
            ]
          },
          "metadata": {
            "tags": [],
            "needs_background": "light"
          }
        }
      ]
    },
    {
      "cell_type": "markdown",
      "metadata": {
        "id": "senior-customs"
      },
      "source": [
        "### Polyalphabetic Subtitution Ciphers (The Vigenère Cipher)\n",
        "\n",
        "A Vigenère cipher uses multiple alphabets, which are selected based on a password (i.e., the key).\n",
        "\n",
        "<img src=\"https://upload.wikimedia.org/wikipedia/commons/thumb/9/9a/Vigen%C3%A8re_square_shading.svg/1920px-Vigen%C3%A8re_square_shading.svg.png\" width=\"320\">\n"
      ],
      "id": "senior-customs"
    },
    {
      "cell_type": "code",
      "metadata": {
        "id": "august-silver",
        "outputId": "738ff2a7-1ef1-4b02-ea56-25a50854c994"
      },
      "source": [
        "# A naive vigenère implementation using a 'vigenère square'\n",
        "\n",
        "vigenère_square = {}\n",
        "vigenère_square['a'] = 'abcdefghijklmnopqrstuvwxyz'\n",
        "vigenère_square['b'] = 'bcdefghijklmnopqrstuvwxyza'\n",
        "vigenère_square['c'] = 'cdefghijklmnopqrstuvwxyzab'\n",
        "vigenère_square['d'] = 'defghijklmnopqrstuvwxyzabc'\n",
        "vigenère_square['e'] = 'efghijklmnopqrstuvwxyzabcd'\n",
        "vigenère_square['f'] = 'fghijklmnopqrstuvwxyzabcde'\n",
        "vigenère_square['g'] = 'ghijklmnopqrstuvwxyzabcdef'\n",
        "vigenère_square['h'] = 'hijklmnopqrstuvwxyzabcdefg'\n",
        "vigenère_square['i'] = 'ijklmnopqrstuvwxyzabcdefgh'\n",
        "vigenère_square['j'] = 'jklmnopqrstuvwxyzabcdefghi'\n",
        "vigenère_square['k'] = 'klmnopqrstuvwxyzabcdefghij'\n",
        "vigenère_square['l'] = 'lmnopqrstuvwxyzabcdefghijk'\n",
        "vigenère_square['m'] = 'mnopqrstuvwxyzabcdefghijkl'\n",
        "vigenère_square['n'] = 'nopqrstuvwxyzabcdefghijklm'\n",
        "vigenère_square['o'] = 'opqrstuvwxyzabcdefghijklmn'\n",
        "vigenère_square['p'] = 'pqrstuvwxyzabcdefghijklmno'\n",
        "vigenère_square['q'] = 'qrstuvwxyzabcdefghijklmnop'\n",
        "vigenère_square['r'] = 'rstuvwxyzabcdefghijklmnopq'\n",
        "vigenère_square['s'] = 'stuvwxyzabcdefghijklmnopqr'\n",
        "vigenère_square['t'] = 'tuvwxyzabcdefghijklmnopqrs'\n",
        "vigenère_square['u'] = 'uvwxyzabcdefghijklmnopqrst'\n",
        "vigenère_square['v'] = 'vwxyzabcdefghijklmnopqrstu'\n",
        "vigenère_square['w'] = 'wxyzabcdefghijklmnopqrstuv'\n",
        "vigenère_square['x'] = 'xyzabcdefghijklmnopqrstuvw'\n",
        "vigenère_square['y'] = 'yzabcdefghijklmnopqrstuvwx'\n",
        "vigenère_square['z'] = 'zabcdefghijklmnopqrstuvwxy'\n",
        "\n",
        "\n",
        "def naive_vigenère(password: str, plaintext: str) -> str:\n",
        "    ciphertext = ''\n",
        "    for index, char in enumerate(plaintext.lower()):\n",
        "\n",
        "        # Skip non-alphabetic chars\n",
        "        if char not in ascii_lowercase:\n",
        "            ciphertext += char\n",
        "            continue\n",
        "\n",
        "        # Select the alphabet based on the password char\n",
        "        alphabet = vigenère_square[password[index % len(password)]]\n",
        "\n",
        "        # Encrypt using the password-based alphabet\n",
        "        ciphertext += alphabet[ascii_lowercase.index(char)]\n",
        "\n",
        "    return ciphertext\n",
        "\n",
        "example_msg = 'attack at dawn'\n",
        "ciphertext = naive_vigenère('secret', example_msg)\n",
        "print(example_msg)\n",
        "print(ciphertext)"
      ],
      "id": "august-silver",
      "execution_count": null,
      "outputs": [
        {
          "output_type": "stream",
          "text": [
            "attack at dawn\n",
            "sxvrgd ev htor\n"
          ],
          "name": "stdout"
        }
      ]
    },
    {
      "cell_type": "code",
      "metadata": {
        "id": "isolated-analyst"
      },
      "source": [
        "#\n",
        "# Modulo Vigenère with a configurable alphabet\n",
        "#\n",
        "\n",
        "from itertools import cycle\n",
        "\n",
        "\n",
        "def vigenère_encrypt(password: str, plaintext: str, alphabet=ascii_lowercase) -> str:\n",
        "    ''' A Vigenère encryption routine that doesn't rely on a pre-built square '''\n",
        "    ciphertext = ''\n",
        "    for char, key in zip(plaintext, cycle(password)):      # Iterate thru plaintext and key\n",
        "        if char not in alphabet:                           # Skip any values not in the alphabet\n",
        "            ciphertext += char\n",
        "            continue\n",
        "        index = alphabet.index(char) + alphabet.index(key) # Index of the plaintext + index of the key\n",
        "        ciphertext += alphabet[index % len(alphabet)]      # Modulo the length of the alphabet\n",
        "    return ciphertext\n",
        "\n",
        "\n",
        "def vigenère_decrypt(password: str, ciphertext: str, alphabet=ascii_lowercase) -> str:\n",
        "    plaintext = ''\n",
        "    for char, key in zip(ciphertext, cycle(password)):     # Iterate thru plaintext and key\n",
        "        if char not in alphabet:\n",
        "            plaintext += char\n",
        "            continue\n",
        "        index = alphabet.index(char) - alphabet.index(key) # Subtract the index of the key from ciphertext index\n",
        "        plaintext += alphabet[index]                       # Negative indexes work perfectly (no need for modulo)\n",
        "    return plaintext\n"
      ],
      "id": "isolated-analyst",
      "execution_count": null,
      "outputs": []
    },
    {
      "cell_type": "code",
      "metadata": {
        "id": "established-tumor",
        "outputId": "ab3a1e1f-888e-4e73-ff90-017eaf569e6f"
      },
      "source": [
        "# Example encrypt/decrypt using a password\n",
        "foo = vigenère_encrypt('secret', 'attack at dawn')\n",
        "print(foo)\n",
        "bar = vigenère_decrypt('secret', foo)\n",
        "print(bar)"
      ],
      "id": "established-tumor",
      "execution_count": null,
      "outputs": [
        {
          "output_type": "stream",
          "text": [
            "sxvrgd ev htor\n",
            "attack at dawn\n"
          ],
          "name": "stdout"
        }
      ]
    },
    {
      "cell_type": "code",
      "metadata": {
        "id": "raising-heart",
        "outputId": "01b712bb-d16b-487e-8ebb-82e6c0e118a3"
      },
      "source": [
        "# Encrypt the full plaintext sample\n",
        "vigenère_ciphertext = vigenère_encrypt('hunter', plaintext.lower())\n",
        "print(vigenère_ciphertext)"
      ],
      "id": "raising-heart",
      "execution_count": null,
      "outputs": [
        {
          "output_type": "stream",
          "text": [
            "\n",
            "uybgv qnl slavgrzua ms nyg zvys mmilx hj zcgmmen or yll lmjaye\n",
            "se nux shhx, rux hj ouibrx hbmlzua ms ki:  fuwr si njbgv mux yhx\n",
            "iivwyq meai mlv vbho oye wzznrk nhm kirkcaz, iog mk bnw ev\n",
            "cbgkblrl fy phrmllftxzvhf me cg, `hhq ayhn bw abr yjl by r vbho,'\n",
            "gaslnbg ecpwr `npnuhyk jvvxlyyf si wbgzvymnmmfu?'\n",
            "\n",
            "  mb wyl jtw jialmullvgk ph aii ijg dphq (rz jxpc uf wyl phyck,\n",
            "ysi nux yvn wep gnwi oye jvlf oiif feivws tru mgntzk), aylnuxv\n",
            "abr tclufnvv is qrrcaz r xnbwp-wutme qbnpu vr afynu xyl gkslifr\n",
            "sw armxzua nt hhq tzjevgk abr hrpmvxw, quxr zoqwiess t nocgx\n",
            "ihvobx dcga gphx iplm kee wyhwv vl lvy.\n",
            "\n",
            "  abrki duf rfabvgk zi oiif exqryenupv ca xyhn; rfy qbh hfvvi\n",
            "abvgo pn ls cyer dbwu sla by koy pep nb lvhl mlv lnufza ftc ai\n",
            "bxjlfs, `vb wiry!  sy xrtv!  v wyhfy fv fnmi!'  (aylh llv nuhyxon\n",
            "bx vprk rmnrkaryxf, za bvglylrw kv uxv abnm joy hyxon ms ouix\n",
            "nvhqxvvk nm kocf, sbn tx abr xzty bx hfy wvlgrw hbcgx ehnhkec);\n",
            "uyk quxr abr vrivvm rjnhtpcf ghsb u pekjb hyk is mkz jtmjawbtx-\n",
            "jbvova, tru fbhovk nm za, tru nuxr ooekmvk bg, hfvvi znnkxvk gh\n",
            "yll yiva, ysi cg jchmuxh hwehwj brk dphq xyhn llv bnw elprk\n",
            "slzbki zyrg r lnufza jbxy yvmlvy n arpmgvsra-chgbln, si u pekjb ms\n",
            "auxx fbn hj pn, eek onvepht azab vyipifbxp, fai yua etyifl koy\n",
            "ymvsx tjkll bx, uaw wvlgnrrayyr nhm cyja vg kpgr xf mrx za cht\n",
            "kijg r fnkkv lnufza-uhpv oawii nux ylxtx.\n",
            "\n",
            "  br hhbmlvy zhqvun wsnu jxrk uybgv usmii cg, elprk fuwr\n",
            "gfumvwiipht lfd vg koy psisx llv qnl kv txx vog exhca.\n",
            "\n",
            "  gai yuoumk-bbei dyam jalnbkya bg cper e aoagic zbk jvgr arf,\n",
            "tru nuxr kcciiu mhwhvufl hfdh, wf mhwhvufl xyhn tpzjy aeu hbm r\n",
            "gbfiea gh kocad riihm jaicimen uxvjlfs fvmiex joy yslux aiizyyy\n",
            "whfybrx xbpr h ixvp xrxt dyye.\n",
            "\n",
            "  xmkoye xyl jxpc qnl mlll hvlj, si mux wlfy zvys lpfdfl, wvl llv\n",
            "bnw gsyamc vz mmdl nl joy piea qhae nb pfve tffbn aii uaw kv\n",
            "jhrull plra jtw nivgk ai aegwya rven.  wplfm, zbr xipyq xf fbho\n",
            "kijg rux febl bnx dbnm joy pej wbfmen gh, iog mk qnl kvi weir gh\n",
            "jly trpabvgk; nuxr zbr pfverw ra gai zcqxw vz mlv qrep, uaw\n",
            "evnvviu nutx abrr nllr jzsfrw npnu glwvbtvuz ngh iibd-joyyoij;\n",
            "uxvv uaw koyex joy len gniw hhq tzjnhkij bhgk bjbg glaf.  zbr\n",
            "xfve wsnu n nry sksd iax fm gai zbrezvz nl joy iejzyq; za jtw\n",
            "suoxpclx `sihhtx dhlztprky', sbn ms oye kilug hzzuciszunzxrk cg\n",
            "arz rftkf:  wyl qbh uig pzry ms klbi koy cei zbk wlue sw evepzua\n",
            "lsdlvbwc, mb qruutxh ai iyk cg meai hrv is xyl pntsvueww hm llv\n",
            "zrep wufm za.\n",
            "\n"
          ],
          "name": "stdout"
        }
      ]
    },
    {
      "cell_type": "code",
      "metadata": {
        "id": "earned-router",
        "outputId": "baf95d23-ef7e-4a94-fb23-c7d346841532"
      },
      "source": [
        "# Monoalphabetic Frequency\n",
        "items = char_frequency(caesar_encrypt(plaintext, 13))\n",
        "pyplot.bar([item[0] for item in items], [item[1] for item in items])\n",
        "pyplot.title('Monoalphabetic')\n",
        "pyplot.show()\n",
        "pyplot.close()\n",
        "\n",
        "# Polyalphabetic Frequency\n",
        "items = char_frequency(vigenère_ciphertext)\n",
        "pyplot.bar([item[0] for item in items], [item[1] for item in items])\n",
        "pyplot.title('Polyalphabetic')\n",
        "pyplot.show()"
      ],
      "id": "earned-router",
      "execution_count": null,
      "outputs": [
        {
          "output_type": "display_data",
          "data": {
            "image/png": "[encoded data removed]",
            "text/plain": [
              "<Figure size 432x288 with 1 Axes>"
            ]
          },
          "metadata": {
            "tags": [],
            "needs_background": "light"
          }
        },
        {
          "output_type": "display_data",
          "data": {
            "image/png": "[encoded data removed]",
            "text/plain": [
              "<Figure size 432x288 with 1 Axes>"
            ]
          },
          "metadata": {
            "tags": [],
            "needs_background": "light"
          }
        }
      ]
    },
    {
      "cell_type": "code",
      "metadata": {
        "id": "accomplished-paragraph",
        "outputId": "9f7ade06-5ead-41b7-dc86-b448e4d5bc20"
      },
      "source": [
        "# Encrypt using 'printable' alphabet, including whitespace\n",
        "from string import printable\n",
        "\n",
        "vigenère_ciphertext2 = vigenère_encrypt('hunter', plaintext, alphabet=printable)\n",
        "print(vigenère_ciphertext2)"
      ],
      "id": "accomplished-paragraph",
      "execution_count": null,
      "outputs": [
        {
          "output_type": "stream",
          "text": [
            "d%ILqFb!xV8CvKFQBJEKhWClxIQnJFI#hWwSvHhRtlJMQWwOxoy\"8IvVhVwTKIOpCObXEH8CrRH28BEHhRtlyESLBHbRLWvJEKhWCluS0n8PEGBnCSbXTLqFbWEH8IrHjSsFGIAnwOKShWvFbFLRylyIOnGJJXBU8XrWhUsBuMKJ^lsYQnwUbLxG8OFqMLqULVBV8PIozRBWvVPDHJFRPnwObMQ28grRAnKIrXhLGlKLBnITvoLI8BbFLRy0\\qQKCVxLQnOMzGBn3XzXERIUbTFFHVIIPnCSbGLQJFIWxWwPEc|palb[LnGIvoTDGltSKVwEvVFQulzRhKsSbSTQ8NzRAn@BJoTHzMbEPnGIvozRIMu3jICSbXEH8IFXhGoZbQxGslyIOntFvPhYsSPoPOsFG#hDBEbWQXDJu0\n",
            "nKIvXEHFnKLBnDMvEPXFFbSCnABBMKJ8BbHxLGZ|GEDwOb!LXzEbFBnKPIXEnHIvoQUCVsPBpCGbKBWHJEKhXDlrRAnDJtOFQulKLBnrBzWFHG0b!EHBlJYAGsOC#hD8\\yMQHa=rFyLHlNMQK8QzRHnsZvWhUoObGIRGFbFVnvFI5jp8l+LBUslNEPnBPKLFQulJSh]S=:oOHABIOxEzFbMKnHIrX1nBPIoALrlRPFFsnKLFQylzXhVCl-)/`8NLGEnCVKoLI8UyIhZoZbXLnvFrVhWvFb@xEpJKoPDMlKSjLHTvPC28g&LhGsBI}hn#IbHBDF`bo&nGIrPInpFbPxWs`\\oh\u000bKIvRhVvFbXERIHyXjLHlFZBU8BwXBUKBIHP28JKoLFqVIVBG8UFoEHFlKLxW8TyIhRIHyXhWClyESHaXFRAHFFuoxW8UyMP28CLXhDHlKLBnHJDIhLHlrPInGFvQBG8RLMQH8OrXRUoM^8jEIUb!EHBlKLBn&BsFFW8BtXRDzMPo;<#,b%h^O?T,h<)?b=#nW?*o>$W>+',$(1d>,&Y&+3hDBEbPLRyFuoxW8JK3hDBEbXEHBlyYOUwFuoLQ^lRPFFslJXxUHFuoQRaIvVhIsFK3hICSbMQntMrWEHrlrGORGTbLBU8NzRAnHIrXhVvFbLxG8OvZBUaCvJLUslJIBQ8BbVxEpJKoTLHIbIFWvFIoxnKBzWQFCBK4MRqLvX\n",
            "nCSbEhZoUtLhWCnKEHH8PLXhRtlzX\n",
            "noOuoyXFOzRDnKJKLhFISzSPLHZ{oPKslIEKnoDISPV8UyIjIwFCHhDtUvVhLH0bEKG8GFVQXBBKII\"8XrWhMITKoFQ8UzQBnHPbWBH8JKoMRDnuSTQ8BbPxUuFbVxEpJK4ERzFbYKGsSbXEH8IvHDH`ndoh,BlrRLWvFIoJRAFEXhGCXEoTHBUb%ILqFbECWsSbMQ28OvZBU8PEGBpqPEWFGsSzRDnvPNoFQ8UyIhZCSCHhVvFb!xV8UFoDHHlFYQnoHrMK4anbo;KslIEyEwU|LLOslNIKW8TKVxLuIKoLQ8MzOBnolKYKQsMbJLU8TFQBnKBP3jDBEbXEHBluMMSsEbWRGrFEPVnrPNR\n",
            "nGPbWRGrFEPVnHIrXh$zJtIhKoEbRLW8BdQLPsOKoQR8UyMKN8BsSRW8TKSMSwOxoEHFTvPCnpFwSOH8TyIhICVEHhKsSJIIIaGrPILBHbHLZBlroSHFZbHBHDlNIIO`ndoh(wUyIOnHIvoTHzMb!xV8WvVVnrFvT\n",
            "nCSbWEH8GvPInJFI#hVzPNPV28GFVhVvFdLxG8QCIKWMlFJhWwNvoxV8TyIhZsOKoARKObXLnzPFOhDpPLXhKsSbEKG8UFqTRBEvVhZvBKoTDGlxSFQulKShKoQGIKnBFOX\u000bn8'zVPW^lJLBnHSzIAnHPbPLRynuSTQ8BEHhPoLvoLXHlNLxW8TyIhZoTbGLPwOxoQR^lsYQnwUb!xV8UFShGoSBoQRaTvIhDBZKLFQu5bXEHBlJLBnzPFOBG8BKoQKslJMAHGlFJhWvFb!BOz0bEKGaOFXFFsEbXEDHlKLB\"8XvVBntJCPBG8XzXEnqVGFLDFEJoxQrlsSLN_TyIIYsT\tqEHFFbEKG8UyIOH8TyIhVoXbQxSGlrRAnDJtXRUsTbLRQulLTLQ8QvKP48l*LBpHPFOhGCXEoxnxBIoCUCNbSKH8PwoQKslJLBOJFJoxV8TyIhSoTJIA78JKoTDGnCEyHzMvHhi#=R<$(8.R@*$Z\"U)|28CLXhWClyIOnuSvEQnrJJEMSCJEXJHBUbMQpKBJoBPDUP7hnGIvoALrlESQnzJBIhWCluVLS8UyIhMoSbJLU8GvEOnCGbOFOzJEKjVCNvFLGM0bWLnABEEDHrlKShSIUbMQnwOKShRBFbSCnHIvozXDCFEOGGlrWhVvFdJBOzlGEPW8JK5j\n"
          ],
          "name": "stdout"
        }
      ]
    },
    {
      "cell_type": "code",
      "metadata": {
        "id": "handmade-wound",
        "outputId": "a5f14d85-d3c4-4e3d-f5e0-77b8f7658fc3"
      },
      "source": [
        "# Decrypt using printable alphabet, including whitespace\n",
        "\n",
        "vigenère_decrypt('hunter', vigenère_ciphertext2, alphabet=printable)"
      ],
      "id": "handmade-wound",
      "execution_count": null,
      "outputs": [
        {
          "output_type": "execute_result",
          "data": {
            "text/plain": [
              "\"\\nAlice was beginning to get very tired of sitting by her sister\\non the bank, and of having nothing to do:  once or twice she had\\npeeped into the book her sister was reading, but it had no\\npictures or conversations in it, `and what is the use of a book,'\\nthought Alice `without pictures or conversation?'\\n\\n  So she was considering in her own mind (as well as she could,\\nfor the hot day made her feel very sleepy and stupid), whether\\nthe pleasure of making a daisy-chain would be worth the trouble\\nof getting up and picking the daisies, when suddenly a White\\nRabbit with pink eyes ran close by her.\\n\\n  There was nothing so VERY remarkable in that; nor did Alice\\nthink it so VERY much out of the way to hear the Rabbit say to\\nitself, `Oh dear!  Oh dear!  I shall be late!'  (when she thought\\nit over afterwards, it occurred to her that she ought to have\\nwondered at this, but at the time it all seemed quite natural);\\nbut when the Rabbit actually TOOK A WATCH OUT OF ITS WAISTCOAT-\\nPOCKET, and looked at it, and then hurried on, Alice started to\\nher feet, for it flashed across her mind that she had never\\nbefore seen a rabbit with either a waistcoat-pocket, or a watch to\\ntake out of it, and burning with curiosity, she ran across the\\nfield after it, and fortunately was just in time to see it pop\\ndown a large rabbit-hole under the hedge.\\n\\n  In another moment down went Alice after it, never once\\nconsidering how in the world she was to get out again.\\n\\n  The rabbit-hole went straight on like a tunnel for some way,\\nand then dipped suddenly down, so suddenly that Alice had not a\\nmoment to think about stopping herself before she found herself\\nfalling down a very deep well.\\n\\n  Either the well was very deep, or she fell very slowly, for she\\nhad plenty of time as she went down to look about her and to\\nwonder what was going to happen next.  First, she tried to look\\ndown and make out what she was coming to, but it was too dark to\\nsee anything; then she looked at the sides of the well, and\\nnoticed that they were filled with cupboards and book-shelves;\\nhere and there she saw maps and pictures hung upon pegs.  She\\ntook down a jar from one of the shelves as she passed; it was\\nlabelled `ORANGE MARMALADE', but to her great disappointment it\\nwas empty:  she did not like to drop the jar for fear of killing\\nsomebody, so managed to put it into one of the cupboards as she\\nfell past it.\\n\""
            ]
          },
          "metadata": {
            "tags": []
          },
          "execution_count": 97
        }
      ]
    },
    {
      "cell_type": "markdown",
      "metadata": {
        "id": "protected-segment"
      },
      "source": [
        "#### Breaking the Vigenère Cipher"
      ],
      "id": "protected-segment"
    },
    {
      "cell_type": "code",
      "metadata": {
        "id": "prescribed-neighborhood",
        "outputId": "56a0a92a-dbc2-4a12-b741-7af0353e1c2e"
      },
      "source": [
        "# Longest Repeated Substring Problem - https://en.wikipedia.org/wiki/Longest_repeated_substring_problem\n",
        "# We're using a naive bruteforce solution, but better space/time efficent solutions do exist\n",
        "\n",
        "def substrings(start: int, value: str) -> str:\n",
        "    ''' Generate substring permuations '''\n",
        "    substr = value[start:]\n",
        "    index = -1\n",
        "    while 1 < len(substr):\n",
        "        yield substr\n",
        "        substr = value[start:index]\n",
        "        index -= 1\n",
        "\n",
        "\n",
        "def substring_frequencies(text: str, alphabet=ascii_lowercase) -> dict:\n",
        "    ''' Find all repeated substrings with length greater than 1 '''\n",
        "    substr_freqs = defaultdict(lambda: 0)\n",
        "    for word in text.split():\n",
        "        \n",
        "        # Remove non-alphabetic chars and skip short 'words'\n",
        "        word = ''.join(char for char in word if char in alphabet)\n",
        "        if len(word) <= 1:\n",
        "            continue\n",
        "        \n",
        "        # Slice the string into substrings and count\n",
        "        for index in range(len(word)):\n",
        "            for substr in substrings(index, word):\n",
        "                substr_freqs[substr] += 1\n",
        "                \n",
        "    # Filter substrings that only occur once\n",
        "    return dict(item for item in substr_freqs.items() if item[1] > 1)\n",
        "\n",
        "\n",
        "def longest_repeating_substrings(text: str, alphabet=ascii_lowercase) -> list:\n",
        "    ''' Calculate substring frequencies and return the longest repeating substring '''\n",
        "    substr_freqs = substring_frequencies(text, alphabet)                                         # Get substring frequencies\n",
        "    longest_key = max(len(key) for key in substr_freqs.keys())                                   # Find longest dict key\n",
        "    longest_substrs = dict(item for item in substr_freqs.items() if len(item[0]) == longest_key) # Filter items with dict key length less than longest key\n",
        "    most_repeats = max([*longest_substrs.values()])                                              # Find greatest dict item value (number of repeats)\n",
        "    return [key for key, value in longest_substrs.items() if value == most_repeats]              # Return all strings with greatest value\n",
        "\n",
        "# Example longest repeated substring 'abra'\n",
        "longest_repeating_substrings('abracadabra')"
      ],
      "id": "prescribed-neighborhood",
      "execution_count": null,
      "outputs": [
        {
          "output_type": "execute_result",
          "data": {
            "text/plain": [
              "['abra']"
            ]
          },
          "metadata": {
            "tags": []
          },
          "execution_count": 106
        }
      ]
    },
    {
      "cell_type": "code",
      "metadata": {
        "id": "global-composer",
        "outputId": "69d91c85-6774-4c4d-a6f1-01d0f655f13e"
      },
      "source": [
        "longest_repeating_substrings(vigenère_ciphertext)"
      ],
      "id": "global-composer",
      "execution_count": null,
      "outputs": [
        {
          "output_type": "execute_result",
          "data": {
            "text/plain": [
              "['mhwhvufl']"
            ]
          },
          "metadata": {
            "tags": []
          },
          "execution_count": 99
        }
      ]
    },
    {
      "cell_type": "code",
      "metadata": {
        "id": "needed-meaning",
        "outputId": "f157faa1-f5fd-4aa4-fda4-4343ecf35936"
      },
      "source": [
        "for lrs in longest_repeating_substrings(vigenère_ciphertext):\n",
        "    first = vigenère_ciphertext.index(lrs)                    # Index where first occurance of 'lrs' *begins*\n",
        "    offset = first + len(lrs)                                 # Slice after 'lrs' so we can use .index() again\n",
        "    second = vigenère_ciphertext[offset:].index(lrs) + offset # Find index of second 'lrs' and add offset to get original position\n",
        "\n",
        "    print(\"Key length is a factor of %d\" % (second - first))  # Account for length of 'lrs' in offset"
      ],
      "id": "needed-meaning",
      "execution_count": null,
      "outputs": [
        {
          "output_type": "stream",
          "text": [
            "Key length is a factor of 18\n"
          ],
          "name": "stdout"
        }
      ]
    },
    {
      "cell_type": "code",
      "metadata": {
        "id": "laughing-flavor",
        "outputId": "ce72b7e4-740a-4f63-c761-32f08dd28dfc"
      },
      "source": [
        "def substr_delta(text: str, substr: str) -> int:\n",
        "    ''' Find distance between substr occurances '''\n",
        "    first = text.index(substr)\n",
        "    offset = first + len(substr)\n",
        "    second = text[offset:].index(substr) + offset\n",
        "    return second - first\n",
        "\n",
        "def repeating_substrings(substr_freqs: dict, length: int) -> list:\n",
        "    ''' Repeatings substrings of a specified length '''\n",
        "    return [item[0] for item in substr_freqs.items() if len(item[0]) == length]\n",
        "\n",
        "def all_substr_deltas(text: str, min_length=4) -> list:\n",
        "    ''' Find all deltas between repeating substrs '''\n",
        "    substr_freqs = substring_frequencies(text)\n",
        "    longest_key = max(len(key) for key in substr_freqs.keys())\n",
        "    factors = []\n",
        "    for length in range(longest_key, min_length, -1):\n",
        "        for substr in repeating_substrings(substr_freqs, length):\n",
        "            factors.append(substr_delta(text, substr))\n",
        "    return factors\n",
        "\n",
        "# Find all common factors of deltas\n",
        "def find_vigenère_key_length(text: str) -> None:\n",
        "    ''' Automatically find the length of the Vigenère key '''\n",
        "    factors = []\n",
        "    deltas = all_substr_deltas(text)\n",
        "    for n in range(2, min(deltas)):\n",
        "        if all(factor % n == 0 for factor in deltas):\n",
        "            factors.append(n)\n",
        "    print(\"Most likely key length is %d\" % factors[-1])\n",
        "\n",
        "find_vigenère_key_length(vigenère_ciphertext)"
      ],
      "id": "laughing-flavor",
      "execution_count": null,
      "outputs": [
        {
          "output_type": "stream",
          "text": [
            "Most likely key length is 6\n"
          ],
          "name": "stdout"
        }
      ]
    },
    {
      "cell_type": "code",
      "metadata": {
        "id": "specified-variation",
        "outputId": "35b75d68-32b4-415d-e5d9-a7ca5e220143"
      },
      "source": [
        "for key in ['asdf', 'asdfg', 'asdffghj']:\n",
        "    encrypted = vigenère_encrypt(key, plaintext.lower())\n",
        "    print('Key = %s (%d)' % (key, len(key)))\n",
        "    find_vigenère_key_length(encrypted)"
      ],
      "id": "specified-variation",
      "execution_count": null,
      "outputs": [
        {
          "output_type": "stream",
          "text": [
            "Key = asdf (4)\n",
            "Most likely key length is 4\n",
            "Key = asdfg (5)\n",
            "Most likely key length is 5\n",
            "Key = asdffghj (8)\n",
            "Most likely key length is 8\n"
          ],
          "name": "stdout"
        }
      ]
    },
    {
      "cell_type": "code",
      "metadata": {
        "id": "asian-glucose"
      },
      "source": [
        ""
      ],
      "id": "asian-glucose",
      "execution_count": null,
      "outputs": []
    }
  ]
}